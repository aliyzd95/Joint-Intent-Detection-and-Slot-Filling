{
  "cells": [
    {
      "cell_type": "code",
      "execution_count": null,
      "metadata": {
        "id": "-49XP-qwy4Uc"
      },
      "outputs": [],
      "source": [
        "seed_value = 42\n",
        "import os\n",
        "\n",
        "os.environ['PYTHONHASHSEED'] = str(seed_value)\n",
        "# os.environ[\"TF_DETERMINISTIC_OPS\"] = str(seed_value)\n",
        "import random\n",
        "\n",
        "random.seed(seed_value)\n",
        "import numpy as np\n",
        "\n",
        "np.random.seed(seed_value)\n",
        "import tensorflow as tf\n",
        "\n",
        "tf.random.set_seed(seed_value)"
      ]
    },
    {
      "cell_type": "code",
      "execution_count": null,
      "metadata": {
        "id": "RdLdB5BAzJoz"
      },
      "outputs": [],
      "source": [
        "import pandas as pd\n",
        "from pathlib import Path\n",
        "\n",
        "# Maximum length needed for zero padding\n",
        "MAX_LENGTH = 50"
      ]
    },
    {
      "cell_type": "code",
      "execution_count": null,
      "metadata": {
        "colab": {
          "base_uri": "https://localhost:8080/",
          "height": 423
        },
        "id": "YXniCYqPzMOE",
        "outputId": "c4b154ab-2a10-44f0-c6b1-108412e4ef59"
      },
      "outputs": [
        {
          "data": {
            "text/html": [
              "\n",
              "\n",
              "  <div id=\"df-66993a3e-0e4d-4583-a715-0ec62252e871\">\n",
              "    <div class=\"colab-df-container\">\n",
              "      <div>\n",
              "<style scoped>\n",
              "    .dataframe tbody tr th:only-of-type {\n",
              "        vertical-align: middle;\n",
              "    }\n",
              "\n",
              "    .dataframe tbody tr th {\n",
              "        vertical-align: top;\n",
              "    }\n",
              "\n",
              "    .dataframe thead th {\n",
              "        text-align: right;\n",
              "    }\n",
              "</style>\n",
              "<table border=\"1\" class=\"dataframe\">\n",
              "  <thead>\n",
              "    <tr style=\"text-align: right;\">\n",
              "      <th></th>\n",
              "      <th>slots</th>\n",
              "      <th>intent_label</th>\n",
              "      <th>sentence</th>\n",
              "    </tr>\n",
              "  </thead>\n",
              "  <tbody>\n",
              "    <tr>\n",
              "      <th>0</th>\n",
              "      <td>O O O O O</td>\n",
              "      <td>balance_query</td>\n",
              "      <td>بگو چند ریال پول دارم.</td>\n",
              "    </tr>\n",
              "    <tr>\n",
              "      <th>1</th>\n",
              "      <td>O O O O O</td>\n",
              "      <td>balance_query</td>\n",
              "      <td>پول خرجی تو حسابم چقدره؟</td>\n",
              "    </tr>\n",
              "    <tr>\n",
              "      <th>2</th>\n",
              "      <td>O O O O O</td>\n",
              "      <td>balance_query</td>\n",
              "      <td>تو حسابم چقدر پول هست؟</td>\n",
              "    </tr>\n",
              "    <tr>\n",
              "      <th>3</th>\n",
              "      <td>O O B-Bankname O O O</td>\n",
              "      <td>balance_query</td>\n",
              "      <td>توی کارت ملتم چقدر پول دارم؟</td>\n",
              "    </tr>\n",
              "    <tr>\n",
              "      <th>4</th>\n",
              "      <td>O O B-Bankname O O O</td>\n",
              "      <td>balance_query</td>\n",
              "      <td>توی کارت ملتم چقدر پول دارم؟</td>\n",
              "    </tr>\n",
              "    <tr>\n",
              "      <th>...</th>\n",
              "      <td>...</td>\n",
              "      <td>...</td>\n",
              "      <td>...</td>\n",
              "    </tr>\n",
              "    <tr>\n",
              "      <th>3302</th>\n",
              "      <td>O O O O B-Amount I-Amount I-Amount O O O O O O...</td>\n",
              "      <td>transaction_card</td>\n",
              "      <td>من قصد دارم مبلغ 200 هزار تومان را از حساب بان...</td>\n",
              "    </tr>\n",
              "    <tr>\n",
              "      <th>3303</th>\n",
              "      <td>O O B-Billname I-Billname O O O O O O O O O O</td>\n",
              "      <td>bill_payment</td>\n",
              "      <td>قصد دارم قبض آب ماه جاری رو با استفاده از کارت...</td>\n",
              "    </tr>\n",
              "    <tr>\n",
              "      <th>3304</th>\n",
              "      <td>O O O O O O O O O O O O O O</td>\n",
              "      <td>other</td>\n",
              "      <td>می‌خواهم از برنامه بانک برای مدیریت هزینه روزا...</td>\n",
              "    </tr>\n",
              "    <tr>\n",
              "      <th>3305</th>\n",
              "      <td>O O O O O O O O O B-Amount I-Amount I-Amount O O</td>\n",
              "      <td>transaction_card</td>\n",
              "      <td>من میخوام برای خرید طلا از حساب بانکیم مبلغ 5 ...</td>\n",
              "    </tr>\n",
              "    <tr>\n",
              "      <th>3306</th>\n",
              "      <td>O O O O O O O O O O O O O O</td>\n",
              "      <td>other</td>\n",
              "      <td>سلام بنده می‌خواهم شماره حساب بانکیم را تغییر ...</td>\n",
              "    </tr>\n",
              "  </tbody>\n",
              "</table>\n",
              "<p>3307 rows × 3 columns</p>\n",
              "</div>\n",
              "      <button class=\"colab-df-convert\" onclick=\"convertToInteractive('df-66993a3e-0e4d-4583-a715-0ec62252e871')\"\n",
              "              title=\"Convert this dataframe to an interactive table.\"\n",
              "              style=\"display:none;\">\n",
              "\n",
              "  <svg xmlns=\"http://www.w3.org/2000/svg\" height=\"24px\"viewBox=\"0 0 24 24\"\n",
              "       width=\"24px\">\n",
              "    <path d=\"M0 0h24v24H0V0z\" fill=\"none\"/>\n",
              "    <path d=\"M18.56 5.44l.94 2.06.94-2.06 2.06-.94-2.06-.94-.94-2.06-.94 2.06-2.06.94zm-11 1L8.5 8.5l.94-2.06 2.06-.94-2.06-.94L8.5 2.5l-.94 2.06-2.06.94zm10 10l.94 2.06.94-2.06 2.06-.94-2.06-.94-.94-2.06-.94 2.06-2.06.94z\"/><path d=\"M17.41 7.96l-1.37-1.37c-.4-.4-.92-.59-1.43-.59-.52 0-1.04.2-1.43.59L10.3 9.45l-7.72 7.72c-.78.78-.78 2.05 0 2.83L4 21.41c.39.39.9.59 1.41.59.51 0 1.02-.2 1.41-.59l7.78-7.78 2.81-2.81c.8-.78.8-2.07 0-2.86zM5.41 20L4 18.59l7.72-7.72 1.47 1.35L5.41 20z\"/>\n",
              "  </svg>\n",
              "      </button>\n",
              "\n",
              "\n",
              "\n",
              "    <div id=\"df-08367e41-1acf-4f41-9cb7-a805598f8b6d\">\n",
              "      <button class=\"colab-df-quickchart\" onclick=\"quickchart('df-08367e41-1acf-4f41-9cb7-a805598f8b6d')\"\n",
              "              title=\"Suggest charts.\"\n",
              "              style=\"display:none;\">\n",
              "\n",
              "<svg xmlns=\"http://www.w3.org/2000/svg\" height=\"24px\"viewBox=\"0 0 24 24\"\n",
              "     width=\"24px\">\n",
              "    <g>\n",
              "        <path d=\"M19 3H5c-1.1 0-2 .9-2 2v14c0 1.1.9 2 2 2h14c1.1 0 2-.9 2-2V5c0-1.1-.9-2-2-2zM9 17H7v-7h2v7zm4 0h-2V7h2v10zm4 0h-2v-4h2v4z\"/>\n",
              "    </g>\n",
              "</svg>\n",
              "      </button>\n",
              "    </div>\n",
              "\n",
              "<style>\n",
              "  .colab-df-quickchart {\n",
              "    background-color: #E8F0FE;\n",
              "    border: none;\n",
              "    border-radius: 50%;\n",
              "    cursor: pointer;\n",
              "    display: none;\n",
              "    fill: #1967D2;\n",
              "    height: 32px;\n",
              "    padding: 0 0 0 0;\n",
              "    width: 32px;\n",
              "  }\n",
              "\n",
              "  .colab-df-quickchart:hover {\n",
              "    background-color: #E2EBFA;\n",
              "    box-shadow: 0px 1px 2px rgba(60, 64, 67, 0.3), 0px 1px 3px 1px rgba(60, 64, 67, 0.15);\n",
              "    fill: #174EA6;\n",
              "  }\n",
              "\n",
              "  [theme=dark] .colab-df-quickchart {\n",
              "    background-color: #3B4455;\n",
              "    fill: #D2E3FC;\n",
              "  }\n",
              "\n",
              "  [theme=dark] .colab-df-quickchart:hover {\n",
              "    background-color: #434B5C;\n",
              "    box-shadow: 0px 1px 3px 1px rgba(0, 0, 0, 0.15);\n",
              "    filter: drop-shadow(0px 1px 2px rgba(0, 0, 0, 0.3));\n",
              "    fill: #FFFFFF;\n",
              "  }\n",
              "</style>\n",
              "\n",
              "    <script>\n",
              "      async function quickchart(key) {\n",
              "        const containerElement = document.querySelector('#' + key);\n",
              "        const charts = await google.colab.kernel.invokeFunction(\n",
              "            'suggestCharts', [key], {});\n",
              "      }\n",
              "    </script>\n",
              "\n",
              "      <script>\n",
              "\n",
              "function displayQuickchartButton(domScope) {\n",
              "  let quickchartButtonEl =\n",
              "    domScope.querySelector('#df-08367e41-1acf-4f41-9cb7-a805598f8b6d button.colab-df-quickchart');\n",
              "  quickchartButtonEl.style.display =\n",
              "    google.colab.kernel.accessAllowed ? 'block' : 'none';\n",
              "}\n",
              "\n",
              "        displayQuickchartButton(document);\n",
              "      </script>\n",
              "      <style>\n",
              "    .colab-df-container {\n",
              "      display:flex;\n",
              "      flex-wrap:wrap;\n",
              "      gap: 12px;\n",
              "    }\n",
              "\n",
              "    .colab-df-convert {\n",
              "      background-color: #E8F0FE;\n",
              "      border: none;\n",
              "      border-radius: 50%;\n",
              "      cursor: pointer;\n",
              "      display: none;\n",
              "      fill: #1967D2;\n",
              "      height: 32px;\n",
              "      padding: 0 0 0 0;\n",
              "      width: 32px;\n",
              "    }\n",
              "\n",
              "    .colab-df-convert:hover {\n",
              "      background-color: #E2EBFA;\n",
              "      box-shadow: 0px 1px 2px rgba(60, 64, 67, 0.3), 0px 1px 3px 1px rgba(60, 64, 67, 0.15);\n",
              "      fill: #174EA6;\n",
              "    }\n",
              "\n",
              "    [theme=dark] .colab-df-convert {\n",
              "      background-color: #3B4455;\n",
              "      fill: #D2E3FC;\n",
              "    }\n",
              "\n",
              "    [theme=dark] .colab-df-convert:hover {\n",
              "      background-color: #434B5C;\n",
              "      box-shadow: 0px 1px 3px 1px rgba(0, 0, 0, 0.15);\n",
              "      filter: drop-shadow(0px 1px 2px rgba(0, 0, 0, 0.3));\n",
              "      fill: #FFFFFF;\n",
              "    }\n",
              "  </style>\n",
              "\n",
              "      <script>\n",
              "        const buttonEl =\n",
              "          document.querySelector('#df-66993a3e-0e4d-4583-a715-0ec62252e871 button.colab-df-convert');\n",
              "        buttonEl.style.display =\n",
              "          google.colab.kernel.accessAllowed ? 'block' : 'none';\n",
              "\n",
              "        async function convertToInteractive(key) {\n",
              "          const element = document.querySelector('#df-66993a3e-0e4d-4583-a715-0ec62252e871');\n",
              "          const dataTable =\n",
              "            await google.colab.kernel.invokeFunction('convertToInteractive',\n",
              "                                                     [key], {});\n",
              "          if (!dataTable) return;\n",
              "\n",
              "          const docLinkHtml = 'Like what you see? Visit the ' +\n",
              "            '<a target=\"_blank\" href=https://colab.research.google.com/notebooks/data_table.ipynb>data table notebook</a>'\n",
              "            + ' to learn more about interactive tables.';\n",
              "          element.innerHTML = '';\n",
              "          dataTable['output_type'] = 'display_data';\n",
              "          await google.colab.output.renderOutput(dataTable, element);\n",
              "          const docLink = document.createElement('div');\n",
              "          docLink.innerHTML = docLinkHtml;\n",
              "          element.appendChild(docLink);\n",
              "        }\n",
              "      </script>\n",
              "    </div>\n",
              "  </div>\n"
            ],
            "text/plain": [
              "                                                  slots      intent_label  \\\n",
              "0                                             O O O O O     balance_query   \n",
              "1                                             O O O O O     balance_query   \n",
              "2                                             O O O O O     balance_query   \n",
              "3                                  O O B-Bankname O O O     balance_query   \n",
              "4                                  O O B-Bankname O O O     balance_query   \n",
              "...                                                 ...               ...   \n",
              "3302  O O O O B-Amount I-Amount I-Amount O O O O O O...  transaction_card   \n",
              "3303      O O B-Billname I-Billname O O O O O O O O O O      bill_payment   \n",
              "3304                        O O O O O O O O O O O O O O             other   \n",
              "3305   O O O O O O O O O B-Amount I-Amount I-Amount O O  transaction_card   \n",
              "3306                        O O O O O O O O O O O O O O             other   \n",
              "\n",
              "                                               sentence  \n",
              "0                                بگو چند ریال پول دارم.  \n",
              "1                              پول خرجی تو حسابم چقدره؟  \n",
              "2                                تو حسابم چقدر پول هست؟  \n",
              "3                          توی کارت ملتم چقدر پول دارم؟  \n",
              "4                          توی کارت ملتم چقدر پول دارم؟  \n",
              "...                                                 ...  \n",
              "3302  من قصد دارم مبلغ 200 هزار تومان را از حساب بان...  \n",
              "3303  قصد دارم قبض آب ماه جاری رو با استفاده از کارت...  \n",
              "3304  می‌خواهم از برنامه بانک برای مدیریت هزینه روزا...  \n",
              "3305  من میخوام برای خرید طلا از حساب بانکیم مبلغ 5 ...  \n",
              "3306  سلام بنده می‌خواهم شماره حساب بانکیم را تغییر ...  \n",
              "\n",
              "[3307 rows x 3 columns]"
            ]
          },
          "execution_count": 7,
          "metadata": {},
          "output_type": "execute_result"
        }
      ],
      "source": [
        "augment_df = pd.read_csv('final_augment.csv')\n",
        "augment_df = augment_df.drop(columns=['Unnamed: 0.1', 'Unnamed: 0', 'index'])\n",
        "augment_df = augment_df[augment_df['sentence'].notna()]\n",
        "augment_df"
      ]
    },
    {
      "cell_type": "code",
      "execution_count": null,
      "metadata": {
        "colab": {
          "base_uri": "https://localhost:8080/"
        },
        "id": "9WSVkcp7lipe",
        "outputId": "8a3cd295-be55-4b8c-d599-da930cf95aa1"
      },
      "outputs": [
        {
          "data": {
            "text/plain": [
              "bill_payment        1036\n",
              "transaction_card     926\n",
              "introduce            471\n",
              "balance_query        397\n",
              "transaction_paya     332\n",
              "other                145\n",
              "Name: intent_label, dtype: int64"
            ]
          },
          "execution_count": 8,
          "metadata": {},
          "output_type": "execute_result"
        }
      ],
      "source": [
        "augment_df['intent_label'].value_counts()"
      ]
    },
    {
      "cell_type": "code",
      "execution_count": null,
      "metadata": {
        "id": "mfsgSzuFzbMc"
      },
      "outputs": [],
      "source": [
        "from transformers import BertTokenizer, AutoTokenizer, TFAutoModel\n",
        "\n",
        "model_name_or_path = \"hooshvarelab/bert-fa-base-uncased\"\n",
        "tokenizer = AutoTokenizer.from_pretrained(model_name_or_path)\n",
        "base_bert_model = TFAutoModel.from_pretrained(model_name_or_path)"
      ]
    },
    {
      "cell_type": "code",
      "execution_count": null,
      "metadata": {
        "id": "Wx-vvvfQzmu4"
      },
      "outputs": [],
      "source": [
        "import numpy as np\n",
        "\n",
        "def encode_dataset(tokenizer, text_sequences, max_length):\n",
        "    \"\"\"Encodes each Sentence with BERT tokenizer and encoder\n",
        "\n",
        "    Args:\n",
        "        tokenizer: ParsBERT Tokenizer\n",
        "        text_sequences: Input Sentences\n",
        "        max_length: Maximum length needed for zero padding\n",
        "\n",
        "    Returns:\n",
        "        dictionary: encoded sentences and their corresponding attention masks\n",
        "    \"\"\"\n",
        "\n",
        "    token_ids = np.zeros(shape=(len(text_sequences), max_length),\n",
        "                         dtype=np.int32)\n",
        "\n",
        "    for i, text_sequence in enumerate(text_sequences):\n",
        "        tokens = text_sequence.split()\n",
        "        encoded = tokenizer.convert_tokens_to_ids(tokens)\n",
        "        token_ids[i, 0:len(encoded)] = encoded\n",
        "\n",
        "    attention_masks = (token_ids != 0).astype(np.int32)\n",
        "\n",
        "    return {'input_ids': token_ids, 'attention_masks': attention_masks}"
      ]
    },
    {
      "cell_type": "code",
      "execution_count": null,
      "metadata": {
        "id": "gMsJB35nzpZ9"
      },
      "outputs": [],
      "source": [
        "encoded_train = encode_dataset(tokenizer, augment_df[\"sentence\"], MAX_LENGTH)"
      ]
    },
    {
      "cell_type": "code",
      "execution_count": null,
      "metadata": {
        "colab": {
          "base_uri": "https://localhost:8080/"
        },
        "id": "3VWZJsQTzq94",
        "outputId": "0a6e4591-c908-4e66-a3d7-33025fbc1680"
      },
      "outputs": [
        {
          "data": {
            "text/plain": [
              "{'transaction_card': 0,\n",
              " 'transaction_paya': 1,\n",
              " 'bill_payment': 2,\n",
              " 'balance_query': 3,\n",
              " 'introduce': 4,\n",
              " 'other': 5}"
            ]
          },
          "execution_count": 13,
          "metadata": {},
          "output_type": "execute_result"
        }
      ],
      "source": [
        "intent_names = Path(\"dataset/intents.txt\").read_text(\"utf-8\").split()\n",
        "intent_map = dict((label, idx) for idx, label in enumerate(intent_names))\n",
        "intent_map"
      ]
    },
    {
      "cell_type": "code",
      "execution_count": null,
      "metadata": {
        "id": "pyziQ4Aqzsox"
      },
      "outputs": [],
      "source": [
        "intent_train = augment_df[\"intent_label\"].map(intent_map).values"
      ]
    },
    {
      "cell_type": "code",
      "execution_count": null,
      "metadata": {
        "colab": {
          "base_uri": "https://localhost:8080/"
        },
        "id": "4gNTgdNozudf",
        "outputId": "2a0d87ac-1d8b-4238-d72e-72e69f35e5ba"
      },
      "outputs": [
        {
          "data": {
            "text/plain": [
              "{'[PAD]': 0,\n",
              " 'B-Bankname': 1,\n",
              " 'I-Bankname': 2,\n",
              " 'B-Billname': 3,\n",
              " 'I-Billname': 4,\n",
              " 'B-Cardnumber': 5,\n",
              " 'B-Accountnumber': 6,\n",
              " 'B-Username': 7,\n",
              " 'I-Username': 8,\n",
              " 'B-Iban': 9,\n",
              " 'B-Method': 10,\n",
              " 'I-Method': 11,\n",
              " 'B-Amount': 12,\n",
              " 'I-Amount': 13,\n",
              " 'B-Exprdate': 14,\n",
              " 'O': 15}"
            ]
          },
          "execution_count": 15,
          "metadata": {},
          "output_type": "execute_result"
        }
      ],
      "source": [
        "slot_names = [\"[PAD]\"]\n",
        "slot_names += Path(\"dataset/slots.txt\").read_text(\"utf-8\").strip().splitlines()\n",
        "slot_map = {}\n",
        "for label in slot_names:\n",
        "    slot_map[label] = len(slot_map)\n",
        "slot_map"
      ]
    },
    {
      "cell_type": "code",
      "execution_count": null,
      "metadata": {
        "id": "9lAC01Gezxd3"
      },
      "outputs": [],
      "source": [
        "def encode_token_labels(text_sequences, slot_names, tokenizer, slot_map, max_length):\n",
        "    \"\"\"After tokenization, some slot lables should be extended, before encoding. this function takes care of both extending and encoding.\n",
        "\n",
        "    Args:\n",
        "        text_sequences: a list of sentences\n",
        "        slot_names: a list of slot names\n",
        "        tokenizer: ParsBERT Tokenizer\n",
        "        slot_map: a dictionary used for encoding slot names\n",
        "        max_length: Maximum length needed for zero padding\n",
        "\n",
        "    Returns:\n",
        "        array: an array of encoded slot names\n",
        "    \"\"\"\n",
        "\n",
        "    encoded = np.zeros(shape=(len(text_sequences), max_length), dtype=np.int32)\n",
        "    for i, (text_sequence, word_labels) in enumerate(zip(text_sequences, slot_names)):\n",
        "        encoded_labels = []\n",
        "        for word, word_label in zip(text_sequence.split(), word_labels.split()):\n",
        "            tokens = word.split()\n",
        "            if word_label == 'I-Accountnumber':\n",
        "                word_label = 'B-Accountnumber'\n",
        "            encoded_labels.append(slot_map[word_label])\n",
        "            expand_label = word_label.replace(\"B-\", \"I-\")\n",
        "            if not expand_label in slot_map:\n",
        "                expand_label = word_label\n",
        "            encoded_labels.extend([slot_map[expand_label]] * (len(tokens) - 1))\n",
        "        encoded[i, 1:len(encoded_labels) + 1] = encoded_labels\n",
        "    return encoded"
      ]
    },
    {
      "cell_type": "code",
      "execution_count": null,
      "metadata": {
        "id": "zKdt2rNQzzB5"
      },
      "outputs": [],
      "source": [
        "slot_train = encode_token_labels(augment_df[\"sentence\"], augment_df[\"slots\"], tokenizer, slot_map, MAX_LENGTH)"
      ]
    },
    {
      "cell_type": "code",
      "execution_count": null,
      "metadata": {
        "colab": {
          "base_uri": "https://localhost:8080/"
        },
        "id": "YyWWkbbZz1Z-",
        "outputId": "0a908810-a5a2-45cc-def1-cfec0de1ce0b"
      },
      "outputs": [
        {
          "name": "stderr",
          "output_type": "stream",
          "text": [
            "Some layers from the model checkpoint at hooshvarelab/bert-fa-base-uncased were not used when initializing TFBertModel: ['nsp___cls', 'mlm___cls']\n",
            "- This IS expected if you are initializing TFBertModel from the checkpoint of a model trained on another task or with another architecture (e.g. initializing a BertForSequenceClassification model from a BertForPreTraining model).\n",
            "- This IS NOT expected if you are initializing TFBertModel from the checkpoint of a model that you expect to be exactly identical (initializing a BertForSequenceClassification model from a BertForSequenceClassification model).\n",
            "All the layers of TFBertModel were initialized from the model checkpoint at hooshvarelab/bert-fa-base-uncased.\n",
            "If your task is similar to the task the model of the checkpoint was trained on, you can already use TFBertModel for predictions without further training.\n"
          ]
        }
      ],
      "source": [
        "from keras.layers import *\n",
        "from keras.layers.core.embedding import Embedding\n",
        "from transformers import TFAutoModel, TFAutoModelForTokenClassification\n",
        "\n",
        "class TransformerEncoderLayer(tf.keras.layers.Layer):\n",
        "    def __init__(self, d_model, num_heads, dff, rate=0.1):\n",
        "        super(TransformerEncoderLayer, self).__init__()\n",
        "\n",
        "        self.multihead_attention = MultiHeadAttention(num_heads=num_heads, key_dim=d_model)\n",
        "        self.dropout1 = Dropout(rate)\n",
        "        self.layernorm1 = LayerNormalization(epsilon=1e-6)\n",
        "\n",
        "        self.ffn = tf.keras.Sequential([\n",
        "            Dense(dff, activation='relu'),\n",
        "            Dense(d_model)\n",
        "        ])\n",
        "        self.dropout2 = Dropout(rate)\n",
        "        self.layernorm2 = LayerNormalization(epsilon=1e-6)\n",
        "\n",
        "    def call(self, inputs, training=False, mask=None):\n",
        "        attention_output = self.multihead_attention(inputs, inputs, attention_mask=mask)\n",
        "        attention_output = self.dropout1(attention_output, training=training)\n",
        "        output1 = self.layernorm1(inputs + attention_output)\n",
        "\n",
        "        ffn_output = self.ffn(output1)\n",
        "        ffn_output = self.dropout2(ffn_output, training=training)\n",
        "        output2 = self.layernorm2(output1 + ffn_output)\n",
        "\n",
        "        return output2\n",
        "\n",
        "class JointIntentAndSlotFillingModel(tf.keras.Model):\n",
        "    def __init__(self, intent_num_labels=None, slot_num_labels=None,\n",
        "                 model_name=model_name_or_path):\n",
        "\n",
        "        super().__init__(name=\"joint_intent_slot\")\n",
        "\n",
        "        self.bert = TFAutoModel.from_pretrained(model_name)\n",
        "        self.encoder_layer = TransformerEncoderLayer(d_model=768, num_heads=8, dff=2048, rate=0.1)\n",
        "        self.dropout = Dropout(0.2)\n",
        "        # self.dropout1 = Dropout(0.25)\n",
        "        # self.dropout2 = Dropout(0.5)\n",
        "        self.globalpoll = GlobalAveragePooling1D()\n",
        "        # self.batch = BatchNormalization()\n",
        "        self.Dense1 = Dense(128, activation='relu')\n",
        "        self.Dense2 = Dense(64, activation='relu')\n",
        "        self.Dense3 = Dense(32, activation='relu')\n",
        "\n",
        "        self.intent_classifier = Dense(intent_num_labels,\n",
        "                                       name=\"intent_classifier\")\n",
        "        self.slot_classifier = Dense(slot_num_labels,\n",
        "                                     name=\"slot_classifier\")\n",
        "\n",
        "        self.intent_cnn_1 = Conv1D(filters=256, kernel_size=7, activation='relu', padding='same')\n",
        "        self.intent_cnn_2 = Conv1D(filters=256, kernel_size=5, activation='relu', padding='same')\n",
        "        self.intent_cnn_3 = Conv1D(filters=256, kernel_size=1, activation='relu', padding='same')\n",
        "        self.intent_pooling = MaxPooling1D(pool_size=(64 - 3 + 1), strides=1, padding='same')\n",
        "\n",
        "        self.mask = Masking()\n",
        "        self.blstm = Bidirectional(LSTM(128, return_sequences=True))\n",
        "        self.drp = Dropout(0.2)\n",
        "\n",
        "    def call(self, inputs, **kwargs):\n",
        "\n",
        "        #bert\n",
        "        sequence_output, _ = self.bert(input_ids=inputs['input_ids'],\n",
        "                                                   attention_mask=inputs['attention_masks'],\n",
        "                                                   **kwargs).values()\n",
        "\n",
        "\n",
        "        mask = self.mask(sequence_output)\n",
        "        blstm = self.blstm(mask)\n",
        "        drp = self.drp(blstm)\n",
        "        slot_logits = self.slot_classifier(drp)\n",
        "\n",
        "\n",
        "        intent_output_1 = self.intent_cnn_1(sequence_output)\n",
        "        intent_pool_1 = self.intent_pooling(intent_output_1)\n",
        "        intent_output_2 = self.intent_cnn_2(sequence_output)\n",
        "        intent_pool_2 = self.intent_pooling(intent_output_2)\n",
        "        intent_output_3 = self.intent_cnn_3(sequence_output)\n",
        "        intent_pool_3 = self.intent_pooling(intent_output_3)\n",
        "        intent_output = tf.keras.layers.concatenate([intent_pool_1, intent_pool_2, intent_pool_3])\n",
        "\n",
        "        encoder_layer = self.encoder_layer(intent_output)\n",
        "\n",
        "        intent_output = self.Dense1(encoder_layer)\n",
        "        # window_output = tf.signal.frame(intent_output, frame_length=768, frame_step=180, pad_end=True, pad_value=0.0)\n",
        "\n",
        "        intent_output = self.dropout(intent_output)\n",
        "        intent_output = self.Dense2(intent_output)\n",
        "        intent_output = self.Dense3(intent_output)\n",
        "        # reshaped_output = tf.reshape(intent_output, (1, -1, intent_output.shape[-1]))\n",
        "        global_cnn = self.globalpoll(intent_output)\n",
        "\n",
        "        intent_logits = self.intent_classifier(global_cnn)\n",
        "\n",
        "        return slot_logits, intent_logits\n",
        "\n",
        "\n",
        "joint_model = JointIntentAndSlotFillingModel(intent_num_labels=len(intent_map), slot_num_labels=len(slot_map))"
      ]
    },
    {
      "cell_type": "code",
      "execution_count": null,
      "metadata": {
        "id": "a7AAivE91hk2"
      },
      "outputs": [],
      "source": [
        "# joint_model.layers[0].trainable = False\n",
        "# joint_model.intent_classifier.trainable = False"
      ]
    },
    {
      "cell_type": "code",
      "execution_count": null,
      "metadata": {
        "id": "HmxUfNSgz7GD"
      },
      "outputs": [],
      "source": [
        "from keras.metrics import SparseCategoricalAccuracy\n",
        "from keras.losses import SparseCategoricalCrossentropy\n",
        "from keras.optimizers import Adam\n",
        "\n",
        "adam = Adam(learning_rate=3e-5, epsilon=1e-08)\n",
        "losses = [SparseCategoricalCrossentropy(from_logits=True),\n",
        "          SparseCategoricalCrossentropy(from_logits=True)]\n",
        "metrics = [SparseCategoricalAccuracy('accuracy')]\n",
        "joint_model.compile(optimizer=adam, loss=losses, metrics=metrics)"
      ]
    },
    {
      "cell_type": "code",
      "execution_count": null,
      "metadata": {
        "colab": {
          "base_uri": "https://localhost:8080/"
        },
        "id": "kEcAyzu_z79y",
        "outputId": "e38cbe4a-6194-4312-b7c8-21a7b2cc1f48"
      },
      "outputs": [
        {
          "name": "stdout",
          "output_type": "stream",
          "text": [
            "Epoch 1/10\n"
          ]
        },
        {
          "name": "stderr",
          "output_type": "stream",
          "text": [
            "WARNING:tensorflow:Gradients do not exist for variables ['tf_bert_model_1/bert/pooler/dense/kernel:0', 'tf_bert_model_1/bert/pooler/dense/bias:0'] when minimizing the loss. If you're using `model.compile()`, did you forget to provide a `loss` argument?\n",
            "WARNING:tensorflow:Gradients do not exist for variables ['tf_bert_model_1/bert/pooler/dense/kernel:0', 'tf_bert_model_1/bert/pooler/dense/bias:0'] when minimizing the loss. If you're using `model.compile()`, did you forget to provide a `loss` argument?\n"
          ]
        },
        {
          "name": "stdout",
          "output_type": "stream",
          "text": [
            "414/414 [==============================] - 104s 180ms/step - loss: 0.4568 - output_1_loss: 0.1856 - output_2_loss: 0.2713 - output_1_accuracy: 0.9506 - output_2_accuracy: 0.9126\n",
            "Epoch 2/10\n",
            "414/414 [==============================] - 77s 187ms/step - loss: 0.0813 - output_1_loss: 0.0507 - output_2_loss: 0.0306 - output_1_accuracy: 0.9859 - output_2_accuracy: 0.9906\n",
            "Epoch 3/10\n",
            "414/414 [==============================] - 74s 178ms/step - loss: 0.0848 - output_1_loss: 0.0409 - output_2_loss: 0.0438 - output_1_accuracy: 0.9889 - output_2_accuracy: 0.9894\n",
            "Epoch 4/10\n",
            "414/414 [==============================] - 73s 176ms/step - loss: 0.0372 - output_1_loss: 0.0271 - output_2_loss: 0.0101 - output_1_accuracy: 0.9926 - output_2_accuracy: 0.9985\n",
            "Epoch 5/10\n",
            "414/414 [==============================] - 74s 178ms/step - loss: 0.0479 - output_1_loss: 0.0226 - output_2_loss: 0.0253 - output_1_accuracy: 0.9937 - output_2_accuracy: 0.9936\n",
            "Epoch 6/10\n",
            "414/414 [==============================] - 73s 177ms/step - loss: 0.0323 - output_1_loss: 0.0222 - output_2_loss: 0.0101 - output_1_accuracy: 0.9937 - output_2_accuracy: 0.9967\n",
            "Epoch 7/10\n",
            "414/414 [==============================] - 73s 176ms/step - loss: 0.0380 - output_1_loss: 0.0244 - output_2_loss: 0.0136 - output_1_accuracy: 0.9933 - output_2_accuracy: 0.9964\n",
            "Epoch 8/10\n",
            "414/414 [==============================] - 73s 176ms/step - loss: 0.0874 - output_1_loss: 0.0524 - output_2_loss: 0.0349 - output_1_accuracy: 0.9863 - output_2_accuracy: 0.9876\n",
            "Epoch 9/10\n",
            "414/414 [==============================] - 73s 176ms/step - loss: 0.0488 - output_1_loss: 0.0266 - output_2_loss: 0.0222 - output_1_accuracy: 0.9924 - output_2_accuracy: 0.9961\n",
            "Epoch 10/10\n",
            "414/414 [==============================] - 73s 175ms/step - loss: 0.0286 - output_1_loss: 0.0176 - output_2_loss: 0.0109 - output_1_accuracy: 0.9950 - output_2_accuracy: 0.9976\n"
          ]
        }
      ],
      "source": [
        "history = joint_model.fit(\n",
        "    encoded_train, (slot_train, intent_train),\n",
        "    shuffle=True,\n",
        "    # validation_split=0.2,\n",
        "    epochs=10, batch_size=8)"
      ]
    },
    {
      "cell_type": "code",
      "execution_count": null,
      "metadata": {
        "id": "4k1ccsw3pcSm"
      },
      "outputs": [],
      "source": []
    },
    {
      "cell_type": "code",
      "execution_count": null,
      "metadata": {
        "id": "MvGujCJC8yBS"
      },
      "outputs": [],
      "source": []
    }
  ],
  "metadata": {
    "accelerator": "GPU",
    "colab": {
      "gpuType": "T4",
      "provenance": []
    },
    "kernelspec": {
      "display_name": "Python 3",
      "name": "python3"
    },
    "language_info": {
      "name": "python"
    }
  },
  "nbformat": 4,
  "nbformat_minor": 0
}